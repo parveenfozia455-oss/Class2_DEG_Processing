{
  "nbformat": 4,
  "nbformat_minor": 0,
  "metadata": {
    "colab": {
      "provenance": []
    },
    "kernelspec": {
      "name": "python3",
      "display_name": "Python 3"
    },
    "language_info": {
      "name": "python"
    }
  },
  "cells": [
    {
      "cell_type": "code",
      "execution_count": null,
      "metadata": {
        "colab": {
          "base_uri": "https://localhost:8080/"
        },
        "id": "mZ17JNg2h3ae",
        "outputId": "1bbf6650-8f64-496e-fe99-bfef839cc769"
      },
      "outputs": [
        {
          "output_type": "stream",
          "name": "stdout",
          "text": [
            "Reading package lists... Done\n",
            "Building dependency tree... Done\n",
            "Reading state information... Done\n",
            "r-base is already the newest version (4.5.1-1.2204.0).\n",
            "0 upgraded, 0 newly installed, 0 to remove and 35 not upgraded.\n",
            "The rpy2.ipython extension is already loaded. To reload it, use:\n",
            "  %reload_ext rpy2.ipython\n"
          ]
        }
      ],
      "source": [
        "# Install R\n",
        "!apt-get install -y r-base\n",
        "\n",
        "# Install rpy2 for R support\n",
        "!pip install -q rpy2\n",
        "\n",
        "# Load R magic extension\n",
        "%load_ext rpy2.ipython"
      ]
    },
    {
      "cell_type": "code",
      "source": [
        "from google.colab import drive\n",
        "drive.mount('/content/drive')"
      ],
      "metadata": {
        "colab": {
          "base_uri": "https://localhost:8080/"
        },
        "id": "Sbk9BKgsj-fo",
        "outputId": "fffe3767-ad92-4e60-b54b-5efe68846b47"
      },
      "execution_count": null,
      "outputs": [
        {
          "output_type": "stream",
          "name": "stdout",
          "text": [
            "Drive already mounted at /content/drive; to attempt to forcibly remount, call drive.mount(\"/content/drive\", force_remount=True).\n"
          ]
        }
      ]
    },
    {
      "cell_type": "code",
      "source": [
        "%%R\n",
        "# Load required libraries\n",
        "library(dplyr)\n",
        "library(readr)\n",
        "\n",
        "# Set working directory to project folder\n",
        "setwd(\"/content/drive/MyDrive/R language\")\n",
        "\n",
        "# Create Results folder if it doesn't exist\n",
        "if (!dir.exists(\"Results\")) {\n",
        "  dir.create(\"Results\")\n",
        "}\n",
        "\n",
        "# Define classification function\n",
        "classify_DEG <- function(logFC, padj) {\n",
        "  if (padj < 0.05 && logFC > 1) {\n",
        "    return(\"Upregulated\")\n",
        "  } else if (padj < 0.05 && logFC < -1) {\n",
        "    return(\"Downregulated\")\n",
        "  } else {\n",
        "    return(\"Not Significant\")\n",
        "  }\n",
        "}\n",
        "\n",
        "# List of input files\n",
        "input_files <- c(\"/content/drive/MyDrive/R language/DEGs_Data_1.csv\", \"/content/drive/MyDrive/R language/DEGs_Data_2.csv\")\n",
        "\n",
        "# Initialize list for summaries\n",
        "summary_list <- list()\n",
        "\n",
        "# Loop through files\n",
        "for (file in input_files) {\n",
        "  # Read data\n",
        "  data <- read_csv(file)\n",
        "\n",
        "  # Apply classification\n",
        "  data$Classification <- mapply(classify_DEG, data$logFC, data$padj)\n",
        "\n",
        "  # Save processed data\n",
        "  output_file <- paste0(\"Results/processed_\", basename(file))\n",
        "  write_csv(data, output_file)\n",
        "\n",
        "  # Create summary table\n",
        "  summary_table <- data %>%\n",
        "    group_by(Classification) %>%\n",
        "    summarise(Count = n(), .groups = \"drop\")\n",
        "\n",
        "  # Save summary table\n",
        "  summary_file <- paste0(\"Results/summary_\", basename(file))\n",
        "  write_csv(summary_table, summary_file)\n",
        "\n",
        "  # Store for combined summary\n",
        "  summary_table$Source <- basename(file)\n",
        "  summary_list[[file]] <- summary_table\n",
        "\n",
        "  # Print summary\n",
        "  print(paste(\"Summary for\", file))\n",
        "  print(summary_table)\n",
        "}\n",
        "\n",
        "# Combine summaries\n",
        "combined_summary <- bind_rows(summary_list)\n",
        "\n",
        "# Save combined summary\n",
        "write_csv(combined_summary, \"Results/combined_summary.csv\")"
      ],
      "metadata": {
        "colab": {
          "base_uri": "https://localhost:8080/"
        },
        "id": "x3rGyRCAlas-",
        "outputId": "60819def-e433-4bf9-ead9-a0235381201d"
      },
      "execution_count": null,
      "outputs": [
        {
          "output_type": "stream",
          "name": "stdout",
          "text": [
            "Rows: 22283 Columns: 3\n",
            "── Column specification ────────────────────────────────────────────────────────\n",
            "Delimiter: \",\"\n",
            "chr (1): Gene_Id\n",
            "dbl (2): padj, logFC\n",
            "\n",
            "ℹ Use `spec()` to retrieve the full column specification for this data.\n",
            "ℹ Specify the column types or set `show_col_types = FALSE` to quiet this message.\n",
            "[1] \"Summary for /content/drive/MyDrive/R language/DEGs_Data_1.csv\"\n",
            "# A tibble: 1 × 3\n",
            "  Classification  Count Source         \n",
            "  <chr>           <int> <chr>          \n",
            "1 Not Significant 22283 DEGs_Data_1.csv\n",
            "Rows: 54675 Columns: 3\n",
            "── Column specification ────────────────────────────────────────────────────────\n",
            "Delimiter: \",\"\n",
            "chr (1): Gene_Id\n",
            "dbl (2): padj, logFC\n",
            "\n",
            "ℹ Use `spec()` to retrieve the full column specification for this data.\n",
            "ℹ Specify the column types or set `show_col_types = FALSE` to quiet this message.\n",
            "[1] \"Summary for /content/drive/MyDrive/R language/DEGs_Data_2.csv\"\n",
            "# A tibble: 3 × 3\n",
            "  Classification  Count Source         \n",
            "  <chr>           <int> <chr>          \n",
            "1 Downregulated    1383 DEGs_Data_2.csv\n",
            "2 Not Significant 52622 DEGs_Data_2.csv\n",
            "3 Upregulated       670 DEGs_Data_2.csv\n"
          ]
        }
      ]
    }
  ]
}